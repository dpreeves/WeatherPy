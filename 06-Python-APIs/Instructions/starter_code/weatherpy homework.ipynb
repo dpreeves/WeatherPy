{
 "cells": [
  {
   "cell_type": "code",
   "execution_count": 2,
   "metadata": {},
   "outputs": [],
   "source": [
    "# Dependencies and Setup\n",
    "import matplotlib.pyplot as plt\n",
    "import pandas as pd\n",
    "import numpy as np\n",
    "import requests\n",
    "import openweathermapy.core as owm\n",
    "import time\n",
    "\n",
    "# Import API key\n",
    "from api_keys import api_key\n",
    "\n",
    "# Incorporated citipy to determine city based on latitude and longitude\n",
    "from citipy import citipy\n",
    "\n",
    "# Output File (CSV)\n",
    "output_data_file = \"output_data/cities.csv\"\n",
    "\n",
    "# Range of latitudes and longitudes\n",
    "lat_range = (-90, 90)\n",
    "lng_range = (-180, 180)"
   ]
  },
  {
   "cell_type": "code",
   "execution_count": 3,
   "metadata": {},
   "outputs": [
    {
     "data": {
      "text/plain": [
       "604"
      ]
     },
     "execution_count": 3,
     "metadata": {},
     "output_type": "execute_result"
    }
   ],
   "source": [
    "# List for holding lat_lngs and cities\n",
    "lat_lngs = []\n",
    "cities = []\n",
    "\n",
    "# Create a set of random lat and lng combinations\n",
    "lats = np.random.uniform(low=-90.000, high=90.000, size=1500)\n",
    "lngs = np.random.uniform(low=-180.000, high=180.000, size=1500)\n",
    "lat_lngs = zip(lats, lngs)\n",
    "\n",
    "# Identify nearest city for each lat, lng combination\n",
    "for lat_lng in lat_lngs:\n",
    "    city = citipy.nearest_city(lat_lng[0], lat_lng[1]).city_name\n",
    "    \n",
    "    # If the city is unique, then add it to a our cities list\n",
    "    if city not in cities:\n",
    "        cities.append(city)\n",
    "\n",
    "# Print the city count to confirm sufficient count\n",
    "len(cities)"
   ]
  },
  {
   "cell_type": "code",
   "execution_count": 4,
   "metadata": {},
   "outputs": [],
   "source": [
    "# Create settings dictionary with information we're interested in\n",
    "settings = {\"units\": \"metric\", \"appid\": api_key}"
   ]
  },
  {
   "cell_type": "code",
   "execution_count": 5,
   "metadata": {},
   "outputs": [],
   "source": [
    "url = \"api.openweathermap.org/data/2.5/weather?q=\""
   ]
  },
  {
   "cell_type": "code",
   "execution_count": 6,
   "metadata": {},
   "outputs": [
    {
     "data": {
      "text/html": [
       "<div>\n",
       "<style scoped>\n",
       "    .dataframe tbody tr th:only-of-type {\n",
       "        vertical-align: middle;\n",
       "    }\n",
       "\n",
       "    .dataframe tbody tr th {\n",
       "        vertical-align: top;\n",
       "    }\n",
       "\n",
       "    .dataframe thead th {\n",
       "        text-align: right;\n",
       "    }\n",
       "</style>\n",
       "<table border=\"1\" class=\"dataframe\">\n",
       "  <thead>\n",
       "    <tr style=\"text-align: right;\">\n",
       "      <th></th>\n",
       "      <th>City</th>\n",
       "      <th>Cloudiness</th>\n",
       "      <th>Country</th>\n",
       "      <th>Date</th>\n",
       "      <th>Humidity</th>\n",
       "      <th>Lat</th>\n",
       "      <th>Lng</th>\n",
       "      <th>Max Temp</th>\n",
       "      <th>Wind Speed</th>\n",
       "    </tr>\n",
       "  </thead>\n",
       "  <tbody>\n",
       "  </tbody>\n",
       "</table>\n",
       "</div>"
      ],
      "text/plain": [
       "Empty DataFrame\n",
       "Columns: [City, Cloudiness, Country, Date, Humidity, Lat, Lng, Max Temp, Wind Speed]\n",
       "Index: []"
      ]
     },
     "execution_count": 6,
     "metadata": {},
     "output_type": "execute_result"
    }
   ],
   "source": [
    "df = pd.DataFrame(columns=['City', 'Cloudiness', 'Country', 'Date', 'Humidity', 'Lat', 'Lng', 'Max Temp', 'Wind Speed'])\n",
    "df                  "
   ]
  },
  {
   "cell_type": "code",
   "execution_count": 18,
   "metadata": {},
   "outputs": [
    {
     "name": "stdout",
     "output_type": "stream",
     "text": [
      "{'coord': {'lon': -139.03, 'lat': -9.8}, 'weather': [{'id': 801, 'main': 'Clouds', 'description': 'few clouds', 'icon': '02n'}], 'base': 'stations', 'main': {'temp': 27.04, 'pressure': 1026.13, 'humidity': 99, 'temp_min': 27.04, 'temp_max': 27.04, 'sea_level': 1026.19, 'grnd_level': 1026.13}, 'wind': {'speed': 8.27, 'deg': 108.001}, 'clouds': {'all': 24}, 'dt': 1539306640, 'sys': {'message': 0.0036, 'country': 'PF', 'sunrise': 1539356034, 'sunset': 1539400273}, 'id': 4020109, 'name': 'Atuona', 'cod': 200}\n",
      "{'coord': {'lon': 147.33, 'lat': -42.88}, 'weather': [{'id': 803, 'main': 'Clouds', 'description': 'broken clouds', 'icon': '04d'}], 'base': 'stations', 'main': {'temp': 13, 'pressure': 1030, 'humidity': 62, 'temp_min': 13, 'temp_max': 13}, 'visibility': 10000, 'wind': {'speed': 2.1, 'deg': 360}, 'clouds': {'all': 75}, 'dt': 1539304200, 'sys': {'type': 1, 'id': 8195, 'message': 0.0044, 'country': 'AU', 'sunrise': 1539285936, 'sunset': 1539332981}, 'id': 2163355, 'name': 'Hobart', 'cod': 200}\n",
      "{'coord': {'lon': 59.53, 'lat': 22.57}, 'weather': [{'id': 800, 'main': 'Clear', 'description': 'clear sky', 'icon': '01n'}], 'base': 'stations', 'main': {'temp': 26.84, 'pressure': 992.81, 'humidity': 96, 'temp_min': 26.84, 'temp_max': 26.84, 'sea_level': 1023.23, 'grnd_level': 992.81}, 'wind': {'speed': 3.02, 'deg': 349.501}, 'clouds': {'all': 0}, 'dt': 1539306841, 'sys': {'message': 0.0033, 'country': 'OM', 'sunrise': 1539309426, 'sunset': 1539351563}, 'id': 286245, 'name': 'Sur', 'cod': 200}\n",
      "{'coord': {'lon': -13.05, 'lat': 20.52}, 'weather': [{'id': 803, 'main': 'Clouds', 'description': 'broken clouds', 'icon': '04n'}], 'base': 'stations', 'main': {'temp': 26.79, 'pressure': 996.86, 'humidity': 36, 'temp_min': 26.79, 'temp_max': 26.79, 'sea_level': 1026.8, 'grnd_level': 996.86}, 'wind': {'speed': 1.62, 'deg': 41.5012}, 'clouds': {'all': 68}, 'dt': 1539306841, 'sys': {'message': 0.0036, 'country': 'MR', 'sunrise': 1539326778, 'sunset': 1539369044}, 'id': 2381334, 'name': 'Atar', 'cod': 200}\n",
      "{'coord': {'lon': 135.83, 'lat': 46.45}, 'weather': [{'id': 802, 'main': 'Clouds', 'description': 'scattered clouds', 'icon': '03d'}], 'base': 'stations', 'main': {'temp': 4.27, 'pressure': 963.39, 'humidity': 98, 'temp_min': 4.27, 'temp_max': 4.27, 'sea_level': 1030.16, 'grnd_level': 963.39}, 'wind': {'speed': 1.17, 'deg': 299.001}, 'clouds': {'all': 48}, 'dt': 1539306841, 'sys': {'message': 0.0042, 'country': 'RU', 'sunrise': 1539292154, 'sunset': 1539332190}, 'id': 2013279, 'name': 'Vostok', 'cod': 200}\n",
      "{'coord': {'lon': 168.86, 'lat': -46.19}, 'weather': [{'id': 500, 'main': 'Rain', 'description': 'light rain', 'icon': '10d'}], 'base': 'stations', 'main': {'temp': 6.79, 'pressure': 1015.35, 'humidity': 67, 'temp_min': 6.79, 'temp_max': 6.79, 'sea_level': 1030.81, 'grnd_level': 1015.35}, 'wind': {'speed': 9.07, 'deg': 181.001}, 'rain': {'3h': 0.1425}, 'clouds': {'all': 92}, 'dt': 1539306842, 'sys': {'message': 0.0035, 'country': 'NZ', 'sunrise': 1539280558, 'sunset': 1539328033}, 'id': 6201424, 'name': 'Mataura', 'cod': 200}\n",
      "{'coord': {'lon': -65.37, 'lat': -1.83}, 'weather': [{'id': 501, 'main': 'Rain', 'description': 'moderate rain', 'icon': '10n'}], 'base': 'stations', 'main': {'temp': 25.19, 'pressure': 1016, 'humidity': 89, 'temp_min': 25.19, 'temp_max': 25.19, 'sea_level': 1022.06, 'grnd_level': 1016}, 'wind': {'speed': 2.77, 'deg': 65.0012}, 'rain': {'3h': 4.755}, 'clouds': {'all': 36}, 'dt': 1539306701, 'sys': {'message': 0.0035, 'country': 'BR', 'sunrise': 1539338619, 'sunset': 1539382331}, 'id': 3663475, 'name': 'Maraa', 'cod': 200}\n",
      "{'coord': {'lon': 138.6, 'lat': -33.21}, 'weather': [{'id': 800, 'main': 'Clear', 'description': 'clear sky', 'icon': '01d'}], 'base': 'stations', 'main': {'temp': 17.94, 'pressure': 974, 'humidity': 57, 'temp_min': 17.94, 'temp_max': 17.94, 'sea_level': 1032.8, 'grnd_level': 974}, 'wind': {'speed': 4.77, 'deg': 46.0012}, 'clouds': {'all': 0}, 'dt': 1539306842, 'sys': {'message': 0.0034, 'country': 'AU', 'sunrise': 1539288545, 'sunset': 1539334547}, 'id': 2069194, 'name': 'Jamestown', 'cod': 200}\n",
      "{'coord': {'lon': -159.32, 'lat': 22.08}, 'weather': [{'id': 803, 'main': 'Clouds', 'description': 'broken clouds', 'icon': '04d'}], 'base': 'stations', 'main': {'temp': 27.81, 'pressure': 1013, 'humidity': 67, 'temp_min': 27.2, 'temp_max': 28.3}, 'visibility': 16093, 'wind': {'speed': 5.1, 'deg': 70}, 'clouds': {'all': 75}, 'dt': 1539302160, 'sys': {'type': 1, 'id': 833, 'message': 0.0035, 'country': 'US', 'sunrise': 1539361946, 'sunset': 1539404073}, 'id': 5848280, 'name': 'Kapaa', 'cod': 200}\n",
      "{'coord': {'lon': 29.09, 'lat': 70.86}, 'weather': [{'id': 500, 'main': 'Rain', 'description': 'light rain', 'icon': '10n'}], 'base': 'stations', 'main': {'temp': 4.52, 'pressure': 1016.64, 'humidity': 100, 'temp_min': 4.52, 'temp_max': 4.52, 'sea_level': 1035.23, 'grnd_level': 1016.64}, 'wind': {'speed': 4.12, 'deg': 307.001}, 'rain': {'3h': 0.145}, 'clouds': {'all': 92}, 'dt': 1539306645, 'sys': {'message': 0.0047, 'country': 'NO', 'sunrise': 1539320823, 'sunset': 1539354683}, 'id': 780687, 'name': 'Berlevag', 'cod': 200}\n",
      "{'coord': {'lon': 122.3, 'lat': 29.96}, 'weather': [{'id': 803, 'main': 'Clouds', 'description': 'broken clouds', 'icon': '04d'}], 'base': 'stations', 'main': {'temp': 20.52, 'pressure': 1037.88, 'humidity': 89, 'temp_min': 20.52, 'temp_max': 20.52, 'sea_level': 1039.24, 'grnd_level': 1037.88}, 'wind': {'speed': 6.92, 'deg': 40.5012}, 'clouds': {'all': 80}, 'dt': 1539306843, 'sys': {'message': 0.0031, 'country': 'CN', 'sunrise': 1539294625, 'sunset': 1539336232}, 'id': 1795632, 'name': 'Shenjiamen', 'cod': 200}\n",
      "{'coord': {'lon': -68.31, 'lat': -54.81}, 'weather': [{'id': 802, 'main': 'Clouds', 'description': 'scattered clouds', 'icon': '03n'}], 'base': 'stations', 'main': {'temp': 9, 'pressure': 998, 'humidity': 45, 'temp_min': 9, 'temp_max': 9}, 'visibility': 10000, 'wind': {'speed': 5.7, 'deg': 320}, 'clouds': {'all': 40}, 'dt': 1539302400, 'sys': {'type': 1, 'id': 4754, 'message': 0.0039, 'country': 'AR', 'sunrise': 1539336658, 'sunset': 1539385777}, 'id': 3833367, 'name': 'Ushuaia', 'cod': 200}\n",
      "{'coord': {'lon': -134.97, 'lat': -23.12}, 'weather': [{'id': 804, 'main': 'Clouds', 'description': 'overcast clouds', 'icon': '04n'}], 'base': 'stations', 'main': {'temp': 21.74, 'pressure': 1032.21, 'humidity': 100, 'temp_min': 21.74, 'temp_max': 21.74, 'sea_level': 1032.27, 'grnd_level': 1032.21}, 'wind': {'speed': 4.72, 'deg': 167.501}, 'clouds': {'all': 92}, 'dt': 1539306843, 'sys': {'message': 0.0034, 'country': 'PF', 'sunrise': 1539354582, 'sunset': 1539399789}, 'id': 4030556, 'name': 'Rikitea', 'cod': 200}\n",
      "{'coord': {'lon': -120.46, 'lat': 34.64}, 'weather': [{'id': 804, 'main': 'Clouds', 'description': 'overcast clouds', 'icon': '04n'}], 'base': 'stations', 'main': {'temp': 19.35, 'pressure': 1009, 'humidity': 55, 'temp_min': 18.9, 'temp_max': 20}, 'visibility': 16093, 'wind': {'speed': 4.1, 'deg': 180}, 'clouds': {'all': 90}, 'dt': 1539304500, 'sys': {'type': 1, 'id': 492, 'message': 0.0045, 'country': 'US', 'sunrise': 1539353109, 'sunset': 1539394248}, 'id': 5367788, 'name': 'Lompoc', 'cod': 200}\n",
      "{'coord': {'lon': -72.07, 'lat': -45.58}, 'weather': [{'id': 800, 'main': 'Clear', 'description': 'clear sky', 'icon': '01n'}], 'base': 'stations', 'main': {'temp': 6.26, 'pressure': 1014, 'humidity': 52, 'temp_min': 5, 'temp_max': 8}, 'visibility': 10000, 'wind': {'speed': 1.5, 'deg': 340}, 'clouds': {'all': 0}, 'dt': 1539302400, 'sys': {'type': 1, 'id': 4643, 'message': 0.0035, 'country': 'CL', 'sunrise': 1539338350, 'sunset': 1539385866}, 'id': 3894426, 'name': 'Coihaique', 'cod': 200}\n",
      "{'coord': {'lon': -93.6, 'lat': 16.38}, 'weather': [{'id': 804, 'main': 'Clouds', 'description': 'overcast clouds', 'icon': '04d'}], 'base': 'stations', 'main': {'temp': 24, 'pressure': 1013, 'humidity': 88, 'temp_min': 24, 'temp_max': 24}, 'visibility': 16093, 'wind': {'speed': 2.6, 'deg': 340}, 'clouds': {'all': 90}, 'dt': 1539301560, 'sys': {'type': 1, 'id': 4025, 'message': 0.0038, 'country': 'MX', 'sunrise': 1539345974, 'sunset': 1539388509}, 'id': 3530097, 'name': 'Champerico', 'cod': 200}\n",
      "{'coord': {'lon': 26.43, 'lat': -12.1}, 'weather': [{'id': 804, 'main': 'Clouds', 'description': 'overcast clouds', 'icon': '04n'}], 'base': 'stations', 'main': {'temp': 22.59, 'pressure': 870.09, 'humidity': 41, 'temp_min': 22.59, 'temp_max': 22.59, 'sea_level': 1023.23, 'grnd_level': 870.09}, 'wind': {'speed': 2.52, 'deg': 57.5012}, 'clouds': {'all': 92}, 'dt': 1539306844, 'sys': {'message': 0.0032, 'country': 'ZM', 'sunrise': 1539316262, 'sunset': 1539360640}, 'id': 913613, 'name': 'Kansanshi', 'cod': 200}\n"
     ]
    },
    {
     "name": "stdout",
     "output_type": "stream",
     "text": [
      "{'coord': {'lon': -161.76, 'lat': 60.79}, 'weather': [{'id': 500, 'main': 'Rain', 'description': 'light rain', 'icon': '10n'}], 'base': 'stations', 'main': {'temp': 8.9, 'pressure': 996, 'humidity': 70, 'temp_min': 8.9, 'temp_max': 8.9}, 'visibility': 16093, 'wind': {'speed': 6.7, 'deg': 80}, 'clouds': {'all': 90}, 'dt': 1539305580, 'sys': {'type': 1, 'id': 28, 'message': 0.0035, 'country': 'US', 'sunrise': 1539364890, 'sunset': 1539402246}, 'id': 5880568, 'name': 'Bethel', 'cod': 200}\n",
      "{'coord': {'lon': 20.04, 'lat': -34.53}, 'weather': [{'id': 801, 'main': 'Clouds', 'description': 'few clouds', 'icon': '02n'}], 'base': 'stations', 'main': {'temp': 14, 'pressure': 1024, 'humidity': 87, 'temp_min': 14, 'temp_max': 14}, 'wind': {'speed': 0.5, 'deg': 150}, 'clouds': {'all': 20}, 'dt': 1539302400, 'sys': {'type': 1, 'id': 6591, 'message': 0.0035, 'country': 'ZA', 'sunrise': 1539316911, 'sunset': 1539363082}, 'id': 1015776, 'name': 'Bredasdorp', 'cod': 200}\n",
      "{'coord': {'lon': 73.08, 'lat': -0.6}, 'weather': [{'id': 804, 'main': 'Clouds', 'description': 'overcast clouds', 'icon': '04d'}], 'base': 'stations', 'main': {'temp': 28.79, 'pressure': 1023.7, 'humidity': 99, 'temp_min': 28.79, 'temp_max': 28.79, 'sea_level': 1023.72, 'grnd_level': 1023.7}, 'wind': {'speed': 2.32, 'deg': 352.001}, 'clouds': {'all': 88}, 'dt': 1539306845, 'sys': {'message': 0.0032, 'country': 'MV', 'sunrise': 1539305436, 'sunset': 1539349069}, 'id': 1282256, 'name': 'Hithadhoo', 'cod': 200}\n",
      "{'coord': {'lon': 14.72, 'lat': 13.47}, 'weather': [{'id': 800, 'main': 'Clear', 'description': 'clear sky', 'icon': '01n'}], 'base': 'stations', 'main': {'temp': 22.27, 'pressure': 990.22, 'humidity': 53, 'temp_min': 22.27, 'temp_max': 22.27, 'sea_level': 1022.7, 'grnd_level': 990.22}, 'wind': {'speed': 1.12, 'deg': 238.001}, 'clouds': {'all': 0}, 'dt': 1539306845, 'sys': {'message': 0.0031, 'country': 'TD', 'sunrise': 1539319879, 'sunset': 1539362622}, 'id': 2434979, 'name': 'Bol', 'cod': 200}\n",
      "{'coord': {'lon': 161.3, 'lat': 68.75}, 'weather': [{'id': 803, 'main': 'Clouds', 'description': 'broken clouds', 'icon': '04d'}], 'base': 'stations', 'main': {'temp': -3.81, 'pressure': 1019.4, 'humidity': 99, 'temp_min': -3.81, 'temp_max': -3.81, 'sea_level': 1027.65, 'grnd_level': 1019.4}, 'wind': {'speed': 0.67, 'deg': 170.001}, 'clouds': {'all': 68}, 'dt': 1539306846, 'sys': {'message': 0.0033, 'country': 'RU', 'sunrise': 1539288486, 'sunset': 1539323579}, 'id': 2126199, 'name': 'Cherskiy', 'cod': 200}\n",
      "{'coord': {'lon': -45.5, 'lat': -3.7}, 'weather': [{'id': 501, 'main': 'Rain', 'description': 'moderate rain', 'icon': '10n'}], 'base': 'stations', 'main': {'temp': 24.84, 'pressure': 1018.27, 'humidity': 86, 'temp_min': 24.84, 'temp_max': 24.84, 'sea_level': 1024.81, 'grnd_level': 1018.27}, 'wind': {'speed': 2.02, 'deg': 44.0012}, 'rain': {'3h': 4.0425}, 'clouds': {'all': 12}, 'dt': 1539306846, 'sys': {'message': 0.0034, 'country': 'BR', 'sunrise': 1539333792, 'sunset': 1539377624}, 'id': 3389609, 'name': 'Pimentel', 'cod': 200}\n",
      "{'coord': {'lon': 19.24, 'lat': -34.42}, 'weather': [{'id': 500, 'main': 'Rain', 'description': 'light rain', 'icon': '10n'}], 'base': 'stations', 'main': {'temp': 12.19, 'pressure': 997.51, 'humidity': 88, 'temp_min': 12.19, 'temp_max': 12.19, 'sea_level': 1037.78, 'grnd_level': 997.51}, 'wind': {'speed': 2.07, 'deg': 139.001}, 'rain': {'3h': 0.4075}, 'clouds': {'all': 64}, 'dt': 1539306846, 'sys': {'message': 0.0046, 'country': 'ZA', 'sunrise': 1539317108, 'sunset': 1539363268}, 'id': 3366880, 'name': 'Hermanus', 'cod': 200}\n",
      "{'coord': {'lon': -65.04, 'lat': -42.77}, 'weather': [{'id': 802, 'main': 'Clouds', 'description': 'scattered clouds', 'icon': '03n'}], 'base': 'stations', 'main': {'temp': 14.39, 'pressure': 1023.86, 'humidity': 58, 'temp_min': 14.39, 'temp_max': 14.39, 'sea_level': 1028.86, 'grnd_level': 1023.86}, 'wind': {'speed': 11.02, 'deg': 347.501}, 'clouds': {'all': 48}, 'dt': 1539306846, 'sys': {'message': 0.0032, 'country': 'AR', 'sunrise': 1539336852, 'sunset': 1539383985}, 'id': 3840092, 'name': 'Puerto Madryn', 'cod': 200}\n",
      "{'coord': {'lon': 147.14, 'lat': -41.43}, 'weather': [{'id': 804, 'main': 'Clouds', 'description': 'overcast clouds', 'icon': '04d'}], 'base': 'stations', 'main': {'temp': 14, 'pressure': 1030, 'humidity': 54, 'temp_min': 14, 'temp_max': 14}, 'visibility': 10000, 'wind': {'speed': 2.6, 'deg': 240}, 'clouds': {'all': 90}, 'dt': 1539304200, 'sys': {'type': 1, 'id': 8196, 'message': 0.0029, 'country': 'AU', 'sunrise': 1539286069, 'sunset': 1539332937}, 'id': 2160517, 'name': 'Launceston', 'cod': 200}\n",
      "{'coord': {'lon': 23.68, 'lat': 70.66}, 'weather': [{'id': 800, 'main': 'Clear', 'description': 'clear sky', 'icon': '01n'}], 'base': 'stations', 'main': {'temp': 4, 'pressure': 1020, 'humidity': 86, 'temp_min': 4, 'temp_max': 4}, 'visibility': 10000, 'wind': {'speed': 2.6, 'deg': 260}, 'clouds': {'all': 0}, 'dt': 1539305400, 'sys': {'type': 1, 'id': 5296, 'message': 0.0036, 'country': 'NO', 'sunrise': 1539322071, 'sunset': 1539356032}, 'id': 779683, 'name': 'Hammerfest', 'cod': 200}\n",
      "{'coord': {'lon': 26.84, 'lat': 55.11}, 'weather': [{'id': 800, 'main': 'Clear', 'description': 'clear sky', 'icon': '01n'}], 'base': 'stations', 'main': {'temp': 4.29, 'pressure': 1028.15, 'humidity': 79, 'temp_min': 4.29, 'temp_max': 4.29, 'sea_level': 1047.43, 'grnd_level': 1028.15}, 'wind': {'speed': 2.07, 'deg': 130.501}, 'clouds': {'all': 0}, 'dt': 1539306847, 'sys': {'message': 0.0032, 'country': 'BY', 'sunrise': 1539318964, 'sunset': 1539357672}, 'id': 623760, 'name': 'Pastavy', 'cod': 200}\n",
      "{'coord': {'lon': 74.49, 'lat': 15.34}, 'weather': [{'id': 800, 'main': 'Clear', 'description': 'clear sky', 'icon': '01d'}], 'base': 'stations', 'main': {'temp': 19.77, 'pressure': 956.82, 'humidity': 84, 'temp_min': 19.77, 'temp_max': 19.77, 'sea_level': 1021.45, 'grnd_level': 956.82}, 'wind': {'speed': 1.62, 'deg': 291.001}, 'clouds': {'all': 0}, 'dt': 1539306847, 'sys': {'message': 0.0038, 'country': 'IN', 'sunrise': 1539305593, 'sunset': 1539348221}, 'id': 1273574, 'name': 'Vaini', 'cod': 200}\n"
     ]
    },
    {
     "ename": "HTTPError",
     "evalue": "HTTP Error 404: Not Found",
     "output_type": "error",
     "traceback": [
      "\u001b[1;31m---------------------------------------------------------------------------\u001b[0m",
      "\u001b[1;31mHTTPError\u001b[0m                                 Traceback (most recent call last)",
      "\u001b[1;32m<ipython-input-18-38535914847b>\u001b[0m in \u001b[0;36m<module>\u001b[1;34m()\u001b[0m\n\u001b[0;32m      1\u001b[0m \u001b[1;31m# Get current weather\u001b[0m\u001b[1;33m\u001b[0m\u001b[1;33m\u001b[0m\u001b[0m\n\u001b[0;32m      2\u001b[0m \u001b[1;32mfor\u001b[0m \u001b[0mcity\u001b[0m \u001b[1;32min\u001b[0m \u001b[0mcities\u001b[0m\u001b[1;33m:\u001b[0m\u001b[1;33m\u001b[0m\u001b[0m\n\u001b[1;32m----> 3\u001b[1;33m     \u001b[0mcurrent_weather\u001b[0m \u001b[1;33m=\u001b[0m \u001b[0mowm\u001b[0m\u001b[1;33m.\u001b[0m\u001b[0mget_current\u001b[0m\u001b[1;33m(\u001b[0m\u001b[0mcity\u001b[0m\u001b[1;33m,\u001b[0m \u001b[1;33m**\u001b[0m\u001b[0msettings\u001b[0m\u001b[1;33m)\u001b[0m\u001b[1;33m\u001b[0m\u001b[0m\n\u001b[0m\u001b[0;32m      4\u001b[0m     \u001b[1;31m#url = api.openweathermap.org/data/2.5/weather?q=city\u001b[0m\u001b[1;33m\u001b[0m\u001b[1;33m\u001b[0m\u001b[0m\n\u001b[0;32m      5\u001b[0m     \u001b[1;31m#print(requests.get(url + i))\u001b[0m\u001b[1;33m\u001b[0m\u001b[1;33m\u001b[0m\u001b[0m\n",
      "\u001b[1;32m~\\Anaconda3\\lib\\site-packages\\openweathermapy\\core.py\u001b[0m in \u001b[0;36mget_current\u001b[1;34m(city, **params)\u001b[0m\n\u001b[0;32m    153\u001b[0m            \u001b[1;33m>>\u001b[0m\u001b[1;33m>\u001b[0m \u001b[0mdata\u001b[0m \u001b[1;33m=\u001b[0m \u001b[0mget_current\u001b[0m\u001b[1;33m(\u001b[0m\u001b[0mzip\u001b[0m\u001b[1;33m=\u001b[0m\u001b[1;34m\"34128,DE\"\u001b[0m\u001b[1;33m)\u001b[0m\u001b[1;33m\u001b[0m\u001b[0m\n\u001b[0;32m    154\u001b[0m \t\"\"\"\n\u001b[1;32m--> 155\u001b[1;33m         \u001b[0mdata\u001b[0m \u001b[1;33m=\u001b[0m \u001b[0mwrap_get\u001b[0m\u001b[1;33m(\u001b[0m\u001b[1;34m\"weather\"\u001b[0m\u001b[1;33m)\u001b[0m\u001b[1;33m(\u001b[0m\u001b[0mcity\u001b[0m\u001b[1;33m,\u001b[0m \u001b[1;33m**\u001b[0m\u001b[0mparams\u001b[0m\u001b[1;33m)\u001b[0m\u001b[1;33m\u001b[0m\u001b[0m\n\u001b[0m\u001b[0;32m    156\u001b[0m         \u001b[1;32mreturn\u001b[0m \u001b[0mDataPoint\u001b[0m\u001b[1;33m(\u001b[0m\u001b[0mdata\u001b[0m\u001b[1;33m)\u001b[0m\u001b[1;33m\u001b[0m\u001b[0m\n\u001b[0;32m    157\u001b[0m \u001b[1;33m\u001b[0m\u001b[0m\n",
      "\u001b[1;32m~\\Anaconda3\\lib\\site-packages\\openweathermapy\\core.py\u001b[0m in \u001b[0;36mcall\u001b[1;34m(loc, **params)\u001b[0m\n\u001b[0;32m     97\u001b[0m                 \u001b[1;32mif\u001b[0m \u001b[0msettings\u001b[0m\u001b[1;33m:\u001b[0m\u001b[1;33m\u001b[0m\u001b[0m\n\u001b[0;32m     98\u001b[0m                         \u001b[0mparams\u001b[0m\u001b[1;33m.\u001b[0m\u001b[0mupdate\u001b[0m\u001b[1;33m(\u001b[0m\u001b[0msettings\u001b[0m\u001b[1;33m)\u001b[0m\u001b[1;33m\u001b[0m\u001b[0m\n\u001b[1;32m---> 99\u001b[1;33m                 \u001b[0mdata\u001b[0m \u001b[1;33m=\u001b[0m \u001b[0mget\u001b[0m\u001b[1;33m(\u001b[0m\u001b[0murl\u001b[0m\u001b[1;33m,\u001b[0m \u001b[1;33m**\u001b[0m\u001b[0mparams\u001b[0m\u001b[1;33m)\u001b[0m\u001b[1;33m\u001b[0m\u001b[0m\n\u001b[0m\u001b[0;32m    100\u001b[0m                 \u001b[1;32mif\u001b[0m \u001b[0mconverter\u001b[0m\u001b[1;33m:\u001b[0m\u001b[1;33m\u001b[0m\u001b[0m\n\u001b[0;32m    101\u001b[0m                         \u001b[0mdata\u001b[0m \u001b[1;33m=\u001b[0m \u001b[0mconverter\u001b[0m\u001b[1;33m(\u001b[0m\u001b[0mdata\u001b[0m\u001b[1;33m)\u001b[0m\u001b[1;33m\u001b[0m\u001b[0m\n",
      "\u001b[1;32m~\\Anaconda3\\lib\\site-packages\\openweathermapy\\core.py\u001b[0m in \u001b[0;36mget\u001b[1;34m(url, **params)\u001b[0m\n\u001b[0;32m     60\u001b[0m \u001b[1;32mdef\u001b[0m \u001b[0mget\u001b[0m\u001b[1;33m(\u001b[0m\u001b[0murl\u001b[0m\u001b[1;33m,\u001b[0m \u001b[1;33m**\u001b[0m\u001b[0mparams\u001b[0m\u001b[1;33m)\u001b[0m\u001b[1;33m:\u001b[0m\u001b[1;33m\u001b[0m\u001b[0m\n\u001b[0;32m     61\u001b[0m         \u001b[1;34m\"\"\"Return data as (nested) dictionary for ``url`` request.\"\"\"\u001b[0m\u001b[1;33m\u001b[0m\u001b[0m\n\u001b[1;32m---> 62\u001b[1;33m         \u001b[0mdata\u001b[0m \u001b[1;33m=\u001b[0m \u001b[0mutils\u001b[0m\u001b[1;33m.\u001b[0m\u001b[0mget_url_response\u001b[0m\u001b[1;33m(\u001b[0m\u001b[0murl\u001b[0m\u001b[1;33m,\u001b[0m \u001b[1;33m**\u001b[0m\u001b[0mparams\u001b[0m\u001b[1;33m)\u001b[0m\u001b[1;33m\u001b[0m\u001b[0m\n\u001b[0m\u001b[0;32m     63\u001b[0m         \u001b[1;31m# Decoding: Python3 compatibility\u001b[0m\u001b[1;33m\u001b[0m\u001b[1;33m\u001b[0m\u001b[0m\n\u001b[0;32m     64\u001b[0m         \u001b[1;32mreturn\u001b[0m \u001b[0mjson\u001b[0m\u001b[1;33m.\u001b[0m\u001b[0mloads\u001b[0m\u001b[1;33m(\u001b[0m\u001b[0mdata\u001b[0m\u001b[1;33m.\u001b[0m\u001b[0mdecode\u001b[0m\u001b[1;33m(\u001b[0m\u001b[1;34m\"utf-8\"\u001b[0m\u001b[1;33m)\u001b[0m\u001b[1;33m)\u001b[0m\u001b[1;33m\u001b[0m\u001b[0m\n",
      "\u001b[1;32m~\\Anaconda3\\lib\\site-packages\\openweathermapy\\utils.py\u001b[0m in \u001b[0;36mget_url_response\u001b[1;34m(url, **params)\u001b[0m\n\u001b[0;32m     29\u001b[0m         \u001b[1;32mif\u001b[0m \u001b[0mparams\u001b[0m\u001b[1;33m:\u001b[0m\u001b[1;33m\u001b[0m\u001b[0m\n\u001b[0;32m     30\u001b[0m                 \u001b[0murl\u001b[0m \u001b[1;33m=\u001b[0m \u001b[0murl\u001b[0m\u001b[1;33m+\u001b[0m\u001b[1;34m\"?\"\u001b[0m\u001b[1;33m+\u001b[0m\u001b[0murlencode\u001b[0m\u001b[1;33m(\u001b[0m\u001b[0mparams\u001b[0m\u001b[1;33m)\u001b[0m\u001b[1;33m\u001b[0m\u001b[0m\n\u001b[1;32m---> 31\u001b[1;33m         \u001b[0mresponse\u001b[0m \u001b[1;33m=\u001b[0m \u001b[0murlopen\u001b[0m\u001b[1;33m(\u001b[0m\u001b[0murl\u001b[0m\u001b[1;33m)\u001b[0m\u001b[1;33m\u001b[0m\u001b[0m\n\u001b[0m\u001b[0;32m     32\u001b[0m         \u001b[0mdata\u001b[0m \u001b[1;33m=\u001b[0m \u001b[0mresponse\u001b[0m\u001b[1;33m.\u001b[0m\u001b[0mread\u001b[0m\u001b[1;33m(\u001b[0m\u001b[1;33m)\u001b[0m\u001b[1;33m\u001b[0m\u001b[0m\n\u001b[0;32m     33\u001b[0m         \u001b[0mresponse\u001b[0m\u001b[1;33m.\u001b[0m\u001b[0mclose\u001b[0m\u001b[1;33m(\u001b[0m\u001b[1;33m)\u001b[0m\u001b[1;33m\u001b[0m\u001b[0m\n",
      "\u001b[1;32m~\\Anaconda3\\lib\\urllib\\request.py\u001b[0m in \u001b[0;36murlopen\u001b[1;34m(url, data, timeout, cafile, capath, cadefault, context)\u001b[0m\n\u001b[0;32m    221\u001b[0m     \u001b[1;32melse\u001b[0m\u001b[1;33m:\u001b[0m\u001b[1;33m\u001b[0m\u001b[0m\n\u001b[0;32m    222\u001b[0m         \u001b[0mopener\u001b[0m \u001b[1;33m=\u001b[0m \u001b[0m_opener\u001b[0m\u001b[1;33m\u001b[0m\u001b[0m\n\u001b[1;32m--> 223\u001b[1;33m     \u001b[1;32mreturn\u001b[0m \u001b[0mopener\u001b[0m\u001b[1;33m.\u001b[0m\u001b[0mopen\u001b[0m\u001b[1;33m(\u001b[0m\u001b[0murl\u001b[0m\u001b[1;33m,\u001b[0m \u001b[0mdata\u001b[0m\u001b[1;33m,\u001b[0m \u001b[0mtimeout\u001b[0m\u001b[1;33m)\u001b[0m\u001b[1;33m\u001b[0m\u001b[0m\n\u001b[0m\u001b[0;32m    224\u001b[0m \u001b[1;33m\u001b[0m\u001b[0m\n\u001b[0;32m    225\u001b[0m \u001b[1;32mdef\u001b[0m \u001b[0minstall_opener\u001b[0m\u001b[1;33m(\u001b[0m\u001b[0mopener\u001b[0m\u001b[1;33m)\u001b[0m\u001b[1;33m:\u001b[0m\u001b[1;33m\u001b[0m\u001b[0m\n",
      "\u001b[1;32m~\\Anaconda3\\lib\\urllib\\request.py\u001b[0m in \u001b[0;36mopen\u001b[1;34m(self, fullurl, data, timeout)\u001b[0m\n\u001b[0;32m    530\u001b[0m         \u001b[1;32mfor\u001b[0m \u001b[0mprocessor\u001b[0m \u001b[1;32min\u001b[0m \u001b[0mself\u001b[0m\u001b[1;33m.\u001b[0m\u001b[0mprocess_response\u001b[0m\u001b[1;33m.\u001b[0m\u001b[0mget\u001b[0m\u001b[1;33m(\u001b[0m\u001b[0mprotocol\u001b[0m\u001b[1;33m,\u001b[0m \u001b[1;33m[\u001b[0m\u001b[1;33m]\u001b[0m\u001b[1;33m)\u001b[0m\u001b[1;33m:\u001b[0m\u001b[1;33m\u001b[0m\u001b[0m\n\u001b[0;32m    531\u001b[0m             \u001b[0mmeth\u001b[0m \u001b[1;33m=\u001b[0m \u001b[0mgetattr\u001b[0m\u001b[1;33m(\u001b[0m\u001b[0mprocessor\u001b[0m\u001b[1;33m,\u001b[0m \u001b[0mmeth_name\u001b[0m\u001b[1;33m)\u001b[0m\u001b[1;33m\u001b[0m\u001b[0m\n\u001b[1;32m--> 532\u001b[1;33m             \u001b[0mresponse\u001b[0m \u001b[1;33m=\u001b[0m \u001b[0mmeth\u001b[0m\u001b[1;33m(\u001b[0m\u001b[0mreq\u001b[0m\u001b[1;33m,\u001b[0m \u001b[0mresponse\u001b[0m\u001b[1;33m)\u001b[0m\u001b[1;33m\u001b[0m\u001b[0m\n\u001b[0m\u001b[0;32m    533\u001b[0m \u001b[1;33m\u001b[0m\u001b[0m\n\u001b[0;32m    534\u001b[0m         \u001b[1;32mreturn\u001b[0m \u001b[0mresponse\u001b[0m\u001b[1;33m\u001b[0m\u001b[0m\n",
      "\u001b[1;32m~\\Anaconda3\\lib\\urllib\\request.py\u001b[0m in \u001b[0;36mhttp_response\u001b[1;34m(self, request, response)\u001b[0m\n\u001b[0;32m    640\u001b[0m         \u001b[1;32mif\u001b[0m \u001b[1;32mnot\u001b[0m \u001b[1;33m(\u001b[0m\u001b[1;36m200\u001b[0m \u001b[1;33m<=\u001b[0m \u001b[0mcode\u001b[0m \u001b[1;33m<\u001b[0m \u001b[1;36m300\u001b[0m\u001b[1;33m)\u001b[0m\u001b[1;33m:\u001b[0m\u001b[1;33m\u001b[0m\u001b[0m\n\u001b[0;32m    641\u001b[0m             response = self.parent.error(\n\u001b[1;32m--> 642\u001b[1;33m                 'http', request, response, code, msg, hdrs)\n\u001b[0m\u001b[0;32m    643\u001b[0m \u001b[1;33m\u001b[0m\u001b[0m\n\u001b[0;32m    644\u001b[0m         \u001b[1;32mreturn\u001b[0m \u001b[0mresponse\u001b[0m\u001b[1;33m\u001b[0m\u001b[0m\n",
      "\u001b[1;32m~\\Anaconda3\\lib\\urllib\\request.py\u001b[0m in \u001b[0;36merror\u001b[1;34m(self, proto, *args)\u001b[0m\n\u001b[0;32m    568\u001b[0m         \u001b[1;32mif\u001b[0m \u001b[0mhttp_err\u001b[0m\u001b[1;33m:\u001b[0m\u001b[1;33m\u001b[0m\u001b[0m\n\u001b[0;32m    569\u001b[0m             \u001b[0margs\u001b[0m \u001b[1;33m=\u001b[0m \u001b[1;33m(\u001b[0m\u001b[0mdict\u001b[0m\u001b[1;33m,\u001b[0m \u001b[1;34m'default'\u001b[0m\u001b[1;33m,\u001b[0m \u001b[1;34m'http_error_default'\u001b[0m\u001b[1;33m)\u001b[0m \u001b[1;33m+\u001b[0m \u001b[0morig_args\u001b[0m\u001b[1;33m\u001b[0m\u001b[0m\n\u001b[1;32m--> 570\u001b[1;33m             \u001b[1;32mreturn\u001b[0m \u001b[0mself\u001b[0m\u001b[1;33m.\u001b[0m\u001b[0m_call_chain\u001b[0m\u001b[1;33m(\u001b[0m\u001b[1;33m*\u001b[0m\u001b[0margs\u001b[0m\u001b[1;33m)\u001b[0m\u001b[1;33m\u001b[0m\u001b[0m\n\u001b[0m\u001b[0;32m    571\u001b[0m \u001b[1;33m\u001b[0m\u001b[0m\n\u001b[0;32m    572\u001b[0m \u001b[1;31m# XXX probably also want an abstract factory that knows when it makes\u001b[0m\u001b[1;33m\u001b[0m\u001b[1;33m\u001b[0m\u001b[0m\n",
      "\u001b[1;32m~\\Anaconda3\\lib\\urllib\\request.py\u001b[0m in \u001b[0;36m_call_chain\u001b[1;34m(self, chain, kind, meth_name, *args)\u001b[0m\n\u001b[0;32m    502\u001b[0m         \u001b[1;32mfor\u001b[0m \u001b[0mhandler\u001b[0m \u001b[1;32min\u001b[0m \u001b[0mhandlers\u001b[0m\u001b[1;33m:\u001b[0m\u001b[1;33m\u001b[0m\u001b[0m\n\u001b[0;32m    503\u001b[0m             \u001b[0mfunc\u001b[0m \u001b[1;33m=\u001b[0m \u001b[0mgetattr\u001b[0m\u001b[1;33m(\u001b[0m\u001b[0mhandler\u001b[0m\u001b[1;33m,\u001b[0m \u001b[0mmeth_name\u001b[0m\u001b[1;33m)\u001b[0m\u001b[1;33m\u001b[0m\u001b[0m\n\u001b[1;32m--> 504\u001b[1;33m             \u001b[0mresult\u001b[0m \u001b[1;33m=\u001b[0m \u001b[0mfunc\u001b[0m\u001b[1;33m(\u001b[0m\u001b[1;33m*\u001b[0m\u001b[0margs\u001b[0m\u001b[1;33m)\u001b[0m\u001b[1;33m\u001b[0m\u001b[0m\n\u001b[0m\u001b[0;32m    505\u001b[0m             \u001b[1;32mif\u001b[0m \u001b[0mresult\u001b[0m \u001b[1;32mis\u001b[0m \u001b[1;32mnot\u001b[0m \u001b[1;32mNone\u001b[0m\u001b[1;33m:\u001b[0m\u001b[1;33m\u001b[0m\u001b[0m\n\u001b[0;32m    506\u001b[0m                 \u001b[1;32mreturn\u001b[0m \u001b[0mresult\u001b[0m\u001b[1;33m\u001b[0m\u001b[0m\n",
      "\u001b[1;32m~\\Anaconda3\\lib\\urllib\\request.py\u001b[0m in \u001b[0;36mhttp_error_default\u001b[1;34m(self, req, fp, code, msg, hdrs)\u001b[0m\n\u001b[0;32m    648\u001b[0m \u001b[1;32mclass\u001b[0m \u001b[0mHTTPDefaultErrorHandler\u001b[0m\u001b[1;33m(\u001b[0m\u001b[0mBaseHandler\u001b[0m\u001b[1;33m)\u001b[0m\u001b[1;33m:\u001b[0m\u001b[1;33m\u001b[0m\u001b[0m\n\u001b[0;32m    649\u001b[0m     \u001b[1;32mdef\u001b[0m \u001b[0mhttp_error_default\u001b[0m\u001b[1;33m(\u001b[0m\u001b[0mself\u001b[0m\u001b[1;33m,\u001b[0m \u001b[0mreq\u001b[0m\u001b[1;33m,\u001b[0m \u001b[0mfp\u001b[0m\u001b[1;33m,\u001b[0m \u001b[0mcode\u001b[0m\u001b[1;33m,\u001b[0m \u001b[0mmsg\u001b[0m\u001b[1;33m,\u001b[0m \u001b[0mhdrs\u001b[0m\u001b[1;33m)\u001b[0m\u001b[1;33m:\u001b[0m\u001b[1;33m\u001b[0m\u001b[0m\n\u001b[1;32m--> 650\u001b[1;33m         \u001b[1;32mraise\u001b[0m \u001b[0mHTTPError\u001b[0m\u001b[1;33m(\u001b[0m\u001b[0mreq\u001b[0m\u001b[1;33m.\u001b[0m\u001b[0mfull_url\u001b[0m\u001b[1;33m,\u001b[0m \u001b[0mcode\u001b[0m\u001b[1;33m,\u001b[0m \u001b[0mmsg\u001b[0m\u001b[1;33m,\u001b[0m \u001b[0mhdrs\u001b[0m\u001b[1;33m,\u001b[0m \u001b[0mfp\u001b[0m\u001b[1;33m)\u001b[0m\u001b[1;33m\u001b[0m\u001b[0m\n\u001b[0m\u001b[0;32m    651\u001b[0m \u001b[1;33m\u001b[0m\u001b[0m\n\u001b[0;32m    652\u001b[0m \u001b[1;32mclass\u001b[0m \u001b[0mHTTPRedirectHandler\u001b[0m\u001b[1;33m(\u001b[0m\u001b[0mBaseHandler\u001b[0m\u001b[1;33m)\u001b[0m\u001b[1;33m:\u001b[0m\u001b[1;33m\u001b[0m\u001b[0m\n",
      "\u001b[1;31mHTTPError\u001b[0m: HTTP Error 404: Not Found"
     ]
    }
   ],
   "source": [
    "# Get current weather\n",
    "for city in cities:\n",
    "    current_weather = owm.get_current(city, **settings)\n",
    "    #url = api.openweathermap.org/data/2.5/weather?q=city\n",
    "    #print(requests.get(url + i))\n",
    "    print(current_weather)"
   ]
  },
  {
   "cell_type": "code",
   "execution_count": 17,
   "metadata": {},
   "outputs": [
    {
     "ename": "NameError",
     "evalue": "name 'missing' is not defined",
     "output_type": "error",
     "traceback": [
      "\u001b[1;31m---------------------------------------------------------------------------\u001b[0m",
      "\u001b[1;31mAttributeError\u001b[0m                            Traceback (most recent call last)",
      "\u001b[1;32m<ipython-input-17-2ed6f3026866>\u001b[0m in \u001b[0;36m<module>\u001b[1;34m()\u001b[0m\n\u001b[0;32m      8\u001b[0m      \u001b[1;32mtry\u001b[0m\u001b[1;33m:\u001b[0m\u001b[1;33m\u001b[0m\u001b[0m\n\u001b[1;32m----> 9\u001b[1;33m         \u001b[0mcurrent_weather\u001b[0m \u001b[1;33m=\u001b[0m \u001b[0mowm\u001b[0m\u001b[1;33m.\u001b[0m\u001b[0mget_current\u001b[0m\u001b[1;33m(\u001b[0m\u001b[0mcity\u001b[0m\u001b[1;33m,\u001b[0m \u001b[1;33m**\u001b[0m\u001b[0msettings\u001b[0m\u001b[1;33m)\u001b[0m\u001b[1;33m.\u001b[0m\u001b[0mjson\u001b[0m\u001b[1;33m(\u001b[0m\u001b[1;33m)\u001b[0m\u001b[1;33m\u001b[0m\u001b[0m\n\u001b[0m\u001b[0;32m     10\u001b[0m         \u001b[0mdf\u001b[0m\u001b[1;33m[\u001b[0m\u001b[0mCity\u001b[0m\u001b[1;33m]\u001b[0m\u001b[1;33m.\u001b[0m\u001b[0mappend\u001b[0m\u001b[1;33m(\u001b[0m\u001b[0mcurrent_weather\u001b[0m\u001b[1;33m[\u001b[0m\u001b[1;34m\"name\"\u001b[0m\u001b[1;33m]\u001b[0m\u001b[1;33m)\u001b[0m\u001b[1;33m\u001b[0m\u001b[0m\n",
      "\u001b[1;31mAttributeError\u001b[0m: 'NestedDict' object has no attribute 'json'",
      "\nDuring handling of the above exception, another exception occurred:\n",
      "\u001b[1;31mNameError\u001b[0m                                 Traceback (most recent call last)",
      "\u001b[1;32m<ipython-input-17-2ed6f3026866>\u001b[0m in \u001b[0;36m<module>\u001b[1;34m()\u001b[0m\n\u001b[0;32m     20\u001b[0m \u001b[1;33m\u001b[0m\u001b[0m\n\u001b[0;32m     21\u001b[0m      \u001b[1;32mexcept\u001b[0m\u001b[1;33m:\u001b[0m\u001b[1;33m\u001b[0m\u001b[0m\n\u001b[1;32m---> 22\u001b[1;33m         \u001b[0mprint\u001b[0m\u001b[1;33m(\u001b[0m\u001b[0mmissing\u001b[0m\u001b[1;33m)\u001b[0m\u001b[1;33m\u001b[0m\u001b[0m\n\u001b[0m\u001b[0;32m     23\u001b[0m \u001b[1;33m\u001b[0m\u001b[0m\n\u001b[0;32m     24\u001b[0m      \u001b[1;32mcontinue\u001b[0m\u001b[1;33m\u001b[0m\u001b[0m\n",
      "\u001b[1;31mNameError\u001b[0m: name 'missing' is not defined"
     ]
    }
   ],
   "source": [
    "# Get current weather\n",
    "for city in cities:\n",
    "    #current_weather = owm.get_current(city, **settings)\n",
    "    #url = api.openweathermap.org/data/2.5/weather?q=city\n",
    "    #print(requests.get(url + i))\n",
    "    \n",
    "    \n",
    "     try: \n",
    "        current_weather = owm.get_current(city, **settings).json() \n",
    "        df[City].append(current_weather[\"name\"])\n",
    "        df[Cloudiness].append(current_weather[\"clouds\"][\"all\"])\n",
    "        df[Country].append(current_weather[\"sys\"][\"country\"])\n",
    "        df[Date].append(current_weather[\"dt\"])\n",
    "        df[Humidity].append(current_weather[\"main\"][\"humidity\"])\n",
    "        df[Lat].append(current_weather[\"coord\"][\"lat\"])\n",
    "        df[Lng].append(current_weather[\"coord\"][\"lon\"])\n",
    "        #df[Max Temp].append(current_weather[\"main\"][\"temp_max\"])\n",
    "        #df[Wind Speed].append(current_weather[\"wind\"][\"speed\"])\n",
    "        print(current_weather)\n",
    "     \n",
    "     except:   \n",
    "        print(missing)\n",
    "      \n",
    "     continue"
   ]
  },
  {
   "cell_type": "code",
   "execution_count": null,
   "metadata": {},
   "outputs": [],
   "source": []
  }
 ],
 "metadata": {
  "kernelspec": {
   "display_name": "Python 3",
   "language": "python",
   "name": "python3"
  },
  "language_info": {
   "codemirror_mode": {
    "name": "ipython",
    "version": 3
   },
   "file_extension": ".py",
   "mimetype": "text/x-python",
   "name": "python",
   "nbconvert_exporter": "python",
   "pygments_lexer": "ipython3",
   "version": "3.6.5"
  }
 },
 "nbformat": 4,
 "nbformat_minor": 2
}
